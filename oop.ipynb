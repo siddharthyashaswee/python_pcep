{
 "cells": [
  {
   "cell_type": "code",
   "execution_count": 3,
   "metadata": {},
   "outputs": [
    {
     "name": "stdout",
     "output_type": "stream",
     "text": [
      "<__main__.Student object at 0x000001266073A5D0>\n",
      "<__main__.Student object at 0x0000012660724A90>\n",
      "John\n",
      "Jane\n"
     ]
    }
   ],
   "source": [
    "class Student:\n",
    "    pass #pass statement is placeholder for future code, nothing happens, no error when empty code is not allowed.\n",
    "\n",
    "student_1 = Student()\n",
    "student_1.first_name = \"John\"\n",
    "\n",
    "student_2 = Student()\n",
    "student_2.first_name = \"Jane\"\n",
    "\n",
    "print(student_1)#mem location, diff for 1 and 2\n",
    "print(student_2)\n",
    "\n",
    "print(student_1.first_name)\n",
    "print(student_2.first_name)"
   ]
  },
  {
   "cell_type": "code",
   "execution_count": 39,
   "metadata": {},
   "outputs": [
    {
     "name": "stdout",
     "output_type": "stream",
     "text": [
      "John Doe 18\n",
      "John Miller 18\n",
      "John 18 You're beautiful\n",
      "John 18 You're beautiful\n",
      "Mary Holy Public School\n",
      "Mary Holy Public School\n",
      "John in Mary Holy Public School\n",
      "2\n",
      "John Baptist School\n",
      "John Baptist School\n",
      "Ram 41 You're beautiful\n",
      "Ram in John Baptist School\n"
     ]
    }
   ],
   "source": [
    "class Student: # __init__, class methods\n",
    "\n",
    "    #class variable: shared by all classes\n",
    "    school = \"Mary Holy Public School\"\n",
    "    n_students = 0\n",
    "\n",
    "    #special def init that will act as a constructor\n",
    "    def __init__(self, first_name, last_name, age): #args to the init, self is the instance variable itself\n",
    "        self.first_name = first_name #left side says that Student will have an attribute first_name\n",
    "        self.last_name = last_name  #right side says that set that attribute to the arg gotten from init\n",
    "        self.age = age #think of all this like a getter/setter mashed into a constructor LOL\n",
    "\n",
    "        # self.n_students += 1 #increment whenever new obj created, wrong no self needed here, otherwise always value 1\n",
    "        Student.n_students += 1\n",
    "\n",
    "    def add_compliment(self): #custom method, self needed here if we want to access its attributes, like this keyword\n",
    "        print(self.first_name +\" \" +str(self.age)+ \" You're beautiful\") #can also return this value\n",
    "\n",
    "    def printschool(self):\n",
    "        print(self.first_name + \" in \" + self.school) # shared variable, can also use Student.school\n",
    "\n",
    "    @classmethod #used to set the variables across all classes, cls means bound to class and not an instance of class\n",
    "    def set_school(cls, school_name):\n",
    "        cls.school = school_name\n",
    "\n",
    "    @classmethod #returning a cls object, instantiates the new class\n",
    "    def split_and_make_class(cls, string_arg):\n",
    "        first_name, last_name, age = string_arg.split(\".\")\n",
    "        return cls(first_name, last_name, int(age))\n",
    "\n",
    "student_1 = Student(first_name=\"John\", last_name=\"Doe\", age=18) #construct and set(initialize)\n",
    "print(student_1.first_name, student_1.last_name, student_1.age) #get\n",
    "student_1.last_name = \"Miller\" #set\n",
    "print(student_1.first_name, student_1.last_name, student_1.age)\n",
    "\n",
    "student_1.add_compliment()\n",
    "Student.add_compliment(student_1) #same thing? or static methods?(no, static methods can be used w/o instantiation) Hmmm..\n",
    "\n",
    "student_2 = Student(first_name=\"Jane\", last_name=\"Dough\", age=19) #construct and set(initialize)\n",
    "\n",
    "print(student_1.school) #shared school across both objects\n",
    "print(student_2.school)\n",
    "\n",
    "student_1.printschool()\n",
    "\n",
    "print(student_1.n_students)\n",
    "\n",
    "Student.set_school(\"John Baptist School\")\n",
    "print(student_1.school) #changed across all instances\n",
    "print(student_2.school)\n",
    "\n",
    "string_arg = 'Ram.Rahim.41' #usage of the cls object\n",
    "student_3 = Student.split_and_make_class(string_arg)\n",
    "student_3.add_compliment()\n",
    "student_3.printschool()"
   ]
  },
  {
   "cell_type": "code",
   "execution_count": 43,
   "metadata": {},
   "outputs": [
    {
     "name": "stdout",
     "output_type": "stream",
     "text": [
      "Hello I am Jane Dough\n",
      "Hello I am John Doe\n"
     ]
    }
   ],
   "source": [
    "## Inheritance ##\n",
    "class Student: \n",
    "    def __init__(self, first_name, last_name):\n",
    "        self.first_name = first_name\n",
    "        self.last_name = last_name  \n",
    "\n",
    "    def greetings(self):\n",
    "        return f\"Hello I am {self.first_name} {self.last_name}\"\n",
    "\n",
    "class CollegeStudent(Student): #tells that CollegeStudent is a subclass of student\n",
    "    pass\n",
    "\n",
    "student_1 = Student(first_name=\"Jane\", last_name=\"Dough\")\n",
    "student_2 = CollegeStudent(first_name=\"John\", last_name=\"Doe\")\n",
    "\n",
    "print(student_1.greetings())\n",
    "print(student_2.greetings())"
   ]
  },
  {
   "cell_type": "code",
   "execution_count": 5,
   "metadata": {},
   "outputs": [
    {
     "name": "stdout",
     "output_type": "stream",
     "text": [
      "Hello I am Jane Dough\n",
      "Hello I am John Doe\n",
      "CS\n",
      "Hello I am Roy and I am going to be a Doctor\n"
     ]
    }
   ],
   "source": [
    "## Inheritance ##\n",
    "class Student: \n",
    "    def __init__(self, first_name, last_name):\n",
    "        self.first_name = first_name\n",
    "        self.last_name = last_name  \n",
    "\n",
    "    def greetings(self):\n",
    "        return f\"Hello I am {self.first_name} {self.last_name}\"\n",
    "\n",
    "class CollegeStudent(Student): #tells that CollegeStudent is a subclass of student\n",
    "    def __init__(self, first_name, last_name, major):\n",
    "        super().__init__(first_name, last_name) #calls init from parent class\n",
    "        self.major = major\n",
    "\n",
    "class NonCollegeStudent(Student): #tells that CollegeStudent is a subclass of student\n",
    "    def __init__(self, first_name, last_name, job):\n",
    "        super().__init__(first_name, last_name) #calls init from parent class\n",
    "        self.job = job\n",
    "\n",
    "    def greetings(self): #override the inherited method\n",
    "        return f\"Hello I am {self.first_name} and I am going to be a {self.job}\"\n",
    "    \n",
    "student_1 = Student(first_name=\"Jane\", last_name=\"Dough\")\n",
    "student_2 = CollegeStudent(first_name=\"John\", last_name=\"Doe\", major=\"CS\")\n",
    "student_3 = NonCollegeStudent(first_name=\"Roy\", last_name=\"Miller\", job=\"Doctor\")\n",
    "\n",
    "print(student_1.greetings())\n",
    "print(student_2.greetings())\n",
    "print(student_2.major)\n",
    "print(student_3.greetings())"
   ]
  }
 ],
 "metadata": {
  "kernelspec": {
   "display_name": "cv_exercise",
   "language": "python",
   "name": "python3"
  },
  "language_info": {
   "codemirror_mode": {
    "name": "ipython",
    "version": 3
   },
   "file_extension": ".py",
   "mimetype": "text/x-python",
   "name": "python",
   "nbconvert_exporter": "python",
   "pygments_lexer": "ipython3",
   "version": "3.11.3"
  }
 },
 "nbformat": 4,
 "nbformat_minor": 2
}
